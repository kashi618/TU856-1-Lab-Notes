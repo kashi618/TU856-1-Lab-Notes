{
 "cells": [
  {
   "cell_type": "markdown",
   "id": "9b9bbf8a-e6ba-4a29-8c0c-b94882edc229",
   "metadata": {
    "tags": []
   },
   "source": [
    "## Q1) Find the distance between two numbers.\n",
    "Asks the user for two positive integers, storing the integers in variables named a and b.  From these two numbers calculate the distance between them - e.g. if a is 3 and b is 5 the answer should be 2, or if a is 5 and b is 3 the answer."
   ]
  },
  {
   "cell_type": "code",
   "execution_count": 5,
   "id": "9ef03f7a-f15d-44fa-949e-95066a2728f2",
   "metadata": {
    "tags": []
   },
   "outputs": [
    {
     "name": "stdin",
     "output_type": "stream",
     "text": [
      "Please enter a positive integer:\n",
      " 8\n",
      "Please enter a positive integer:\n",
      " 5\n"
     ]
    },
    {
     "name": "stdout",
     "output_type": "stream",
     "text": [
      "3\n"
     ]
    }
   ],
   "source": [
    "# Asks the user to input 2 positive integers\n",
    "a = int(input(\"Please enter a positive integer:\\n\"))\n",
    "b = int(input(\"Please enter a positive integer:\\n\"))\n",
    "\n",
    "# Finds the distance by finding the value when they are taken away from each other\n",
    "'''\n",
    "if b-a < 0:\n",
    "    print(a-b)\n",
    "else:\n",
    "    print(b-a)\n",
    "'''\n",
    "\n",
    "# Finds the absolute value/raw positive value when taking a from b\n",
    "# (The value)\n",
    "print(abs(a-b))\n"
   ]
  },
  {
   "cell_type": "markdown",
   "id": "aa3d7aa1-03a9-48e6-a9f4-1491595ad1bf",
   "metadata": {},
   "source": [
    "## Q2) Check if a number is positive, negative, or zero.\n",
    "\n",
    "Write a Python program to check whether a number is positive, negative, or zero.\n"
   ]
  },
  {
   "cell_type": "code",
   "execution_count": null,
   "id": "80bcfe05-650b-4c78-80b4-40b983bb3d0a",
   "metadata": {
    "tags": []
   },
   "outputs": [],
   "source": [
    "# Asks the user to enter a value\n",
    "number = int(input(\"Enter a number\"))\n",
    "\n",
    "# If equal to 0, then it is zero\n",
    "if number == 0:\n",
    "    print(\"This number is zero\")\n",
    "\n",
    "# If greater than 0, it is positive\n",
    "elif number > 0:\n",
    "    print(\"This number is positive\")\n",
    "    \n",
    "# For all other values, (numbers less than 0), it is negative\n",
    "else:\n",
    "    print(\"This number is negative\")\n",
    "    "
   ]
  },
  {
   "cell_type": "markdown",
   "id": "db4978e1-0aef-488e-97d5-a3540efea658",
   "metadata": {},
   "source": [
    "## Q3) Add up positive integers\n",
    "Write a Python program that asks the user to input a positive integer. Using a while loop, calculate the sum of integers from 1 to the entered integer.  e.g. if the user enters the number 6 the result should be 21 (1+2+3+4+5+6)."
   ]
  },
  {
   "cell_type": "code",
   "execution_count": 13,
   "id": "6c0fb405-4286-4b9b-a21c-fc6729155ae7",
   "metadata": {
    "tags": []
   },
   "outputs": [
    {
     "name": "stdin",
     "output_type": "stream",
     "text": [
      "Enter an Integer:  5\n"
     ]
    },
    {
     "name": "stdout",
     "output_type": "stream",
     "text": [
      "The answer is:  15\n"
     ]
    }
   ],
   "source": [
    "# Asks the user to input an integer\n",
    "userInput = int(input(\"Enter an Integer: \"))\n",
    "answer = 0\n",
    "\n",
    "# This for loop first adds 1, then 2, then 3, etc, and stop when it reaches the user's number\n",
    "for i in range(userInput+1):\n",
    "    answer += i\n",
    "\n",
    "print(\"The answer is: \", answer)"
   ]
  },
  {
   "cell_type": "markdown",
   "id": "b2c3add3-58d6-427f-850e-6640e8576ddb",
   "metadata": {},
   "source": [
    "## Q4) Even or odd?\n",
    "Write a Python program that asks the user to input a positive integer. The program should print \"It's even\" if the number is even and \"It's odd\" if it is odd. Can you do it just using a while loop, if statments and basic arithmetic operations?\n",
    "\n"
   ]
  },
  {
   "cell_type": "code",
   "execution_count": 7,
   "id": "b6732362-04f9-4f62-9395-a79dae338ccf",
   "metadata": {
    "tags": []
   },
   "outputs": [
    {
     "name": "stdin",
     "output_type": "stream",
     "text": [
      "Enter a number:  4\n"
     ]
    },
    {
     "name": "stdout",
     "output_type": "stream",
     "text": [
      "even\n"
     ]
    }
   ],
   "source": [
    "# Asks the user to input an integer\n",
    "userInput = int(input(\"Enter a number: \"))\n",
    "\n",
    "# Uses the modulus operator.\n",
    "# If a number can be divided evenly by 2, it is an even number\n",
    "# If there is a remainder left, it is odd\n",
    "'''\n",
    "if (userInput % 2) == 0:\n",
    "    print(\"even\")\n",
    "else:\n",
    "    print(\"odd\")\n",
    "'''\n",
    "\n",
    "# Keeps taking 2 away from the user input\n",
    "# If there is no remainder, ie it ends up at 0, it is even\n",
    "# If it goes down to 1, then it is odd\n",
    "while loop != 0:\n",
    "    loop -= 1\n",
    "    \n",
    "    userInput =-2\n",
    "    if userInput == 0:\n",
    "        print(\"even\")\n",
    "    if userInput == 1 or userInput == -1:\n",
    "        print(\"odd\")\n"
   ]
  },
  {
   "cell_type": "markdown",
   "id": "e31b5f44-aab3-460c-b60d-99729a55e1a4",
   "metadata": {},
   "source": [
    "## Q5) Factorial\n",
    "The factorial (!) of a positive integer is that number multiplied by all the numbers smaller than it, e.g. 5! is 1\\*2\\*3\\*4\\*5 = 120, or in general - x! = 1\\*2\\*3…\\*(x-1)\\*x"
   ]
  },
  {
   "cell_type": "code",
   "execution_count": 25,
   "id": "a3733ed7-7a76-438f-93b3-7dcd56bcf509",
   "metadata": {
    "tags": []
   },
   "outputs": [
    {
     "name": "stdin",
     "output_type": "stream",
     "text": [
      "Enter a number:  5\n"
     ]
    },
    {
     "name": "stdout",
     "output_type": "stream",
     "text": [
      "120\n"
     ]
    }
   ],
   "source": [
    "# Asks the user to input a number\n",
    "userInput = int(input(\"Enter a number: \"))\n",
    "answer = 1\n",
    "\n",
    "# This for loops multiplies the answer first by 1, then 2, then 3, etc, until it reaches the user's number\n",
    "for i in range(1,userInput+1):\n",
    "    answer = i*answer\n",
    "print(answer)\n"
   ]
  },
  {
   "cell_type": "code",
   "execution_count": null,
   "id": "63ab2779-1d5b-479d-b342-4c3187edc4db",
   "metadata": {},
   "outputs": [],
   "source": []
  }
 ],
 "metadata": {
  "kernelspec": {
   "display_name": "Python 3 (ipykernel)",
   "language": "python",
   "name": "python3"
  },
  "language_info": {
   "codemirror_mode": {
    "name": "ipython",
    "version": 3
   },
   "file_extension": ".py",
   "mimetype": "text/x-python",
   "name": "python",
   "nbconvert_exporter": "python",
   "pygments_lexer": "ipython3",
   "version": "3.12.5"
  }
 },
 "nbformat": 4,
 "nbformat_minor": 5
}
