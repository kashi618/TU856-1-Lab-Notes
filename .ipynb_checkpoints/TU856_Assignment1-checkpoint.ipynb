{
 "cells": [
  {
   "cell_type": "markdown",
   "id": "5df95ffb-8c92-4e58-aecf-a71a15bb604a",
   "metadata": {},
   "source": [
    "# Instructions\n",
    "This lab has to be submitted by 11:55am Tuesday 8-10-2024. Write your solutions in this file and save your completed lab as your_student_number.ipynb.   \n",
    "This lab will account for 10% of the mark for the module. Please feel free to use samples of code from previous labs and lectures to assist you in formulating your answers.  \n",
    "If you are stuck on a problem do whatever part of the problem you can - for example get the loop iterating the correct number of times, try to have the input and output working etc."
   ]
  },
  {
   "cell_type": "markdown",
   "id": "d5c78681-ac3d-4ef1-a592-160e9bc798a5",
   "metadata": {},
   "source": [
    "## Q1\n",
    "Write a program that reads in a year (positive integer) and returns whether the year is a leap year. A year is a leap year if it is divisible by 4 and not divisible by 100, unless it is divisible by 400, then it is a leap year."
   ]
  },
  {
   "cell_type": "code",
   "execution_count": 6,
   "id": "ba7e5b26-1042-4802-9bda-61b12686daa0",
   "metadata": {},
   "outputs": [
    {
     "name": "stdin",
     "output_type": "stream",
     "text": [
      "Enter a year:  2000\n"
     ]
    },
    {
     "data": {
      "text/plain": [
       "True"
      ]
     },
     "execution_count": 6,
     "metadata": {},
     "output_type": "execute_result"
    }
   ],
   "source": [
    "def isLeapYear():\n",
    "    year = int(input(\"Enter a year: \"))\n",
    "    \n",
    "    # Year is leap if divisible by 100 AND 400\n",
    "    if (year%100 == 0) and (year%400 == 0):\n",
    "        return \"It is a leap year\"\n",
    "    # Year is leap if divisible by 4 and NOT 100\n",
    "    elif (year%4 == 0) and (year%100 != 0):\n",
    "        return \"It is a leap year\"\n",
    "    # All other years are not leap\n",
    "    else:\n",
    "        return \"It is NOT a leap year\" \n",
    "# END isLeapYear func\n",
    "\n",
    "\n",
    "print(isLeapYear())"
   ]
  },
  {
   "cell_type": "markdown",
   "id": "503dcb58-edce-4392-b459-359ce100872a",
   "metadata": {},
   "source": [
    "## Q2\n",
    "Write a program using a loop that asks the user to input a series of positive integers.  Once the user inputs zero the loop should end and the average value of the integers displayed (the average is the sum of all the integers divided by the number of integers the user input before the loop terminates - not including the final zero entered)."
   ]
  },
  {
   "cell_type": "code",
   "execution_count": 8,
   "id": "dd5719ed-72ee-4a45-9c1b-73dab0be7fa2",
   "metadata": {},
   "outputs": [
    {
     "name": "stdin",
     "output_type": "stream",
     "text": [
      "Enter a positive number (0 to stop):  1\n",
      "Enter a positive number (0 to stop):  2\n",
      "Enter a positive number (0 to stop):  3\n",
      "Enter a positive number (0 to stop):  4\n",
      "Enter a positive number (0 to stop):  5\n",
      "Enter a positive number (0 to stop):  0\n"
     ]
    },
    {
     "name": "stdout",
     "output_type": "stream",
     "text": [
      "The mean the numbers is 3.0\n"
     ]
    }
   ],
   "source": [
    "def positiveIntegers():\n",
    "    # Initializing variables\n",
    "    intList = []\n",
    "    temp = 0\n",
    "    sum = 0\n",
    "    mean = 0\n",
    "\n",
    "    # Repeatedly asks the user to enter a positive integer, and appends it to the list intList\n",
    "    while True:\n",
    "        temp = int(input(\"Enter a positive number (0 to stop): \"))\n",
    "        if temp > 0:\n",
    "            intList.append(temp)\n",
    "        else:\n",
    "            break\n",
    "    \n",
    "    # For each integer in the list, add it to the sum\n",
    "    for i in range(len(intList)):\n",
    "        sum += intList[i]\n",
    "    \n",
    "    # Calculates the mean, dividing the sum by the amount of integers in the list\n",
    "    mean = sum/len(intList)\n",
    "\n",
    "    # Returns the value of the mean\n",
    "    return f\"The mean the numbers is {mean}\"\n",
    "# END positiveIntegers Func\n",
    "\n",
    "print(positiveIntegers())"
   ]
  },
  {
   "cell_type": "markdown",
   "id": "b996df7e-bfb3-4f5c-a199-615ccbbd3b40",
   "metadata": {},
   "source": [
    "## Q3\n",
    "Develop an algorithm that uses a loop to compute the sum of the first _n_ (_n_ being a positive integer read in from the user, 1 or greater) terms of the sequence S = 1-3+5-7+9. Each iteration of the loop should add a term of the sequence. The algorithm should explicitly calculate each term of the sequence e.g. if _n_ is 3 the algorithm should add the numbers 1, -3 and 5."
   ]
  },
  {
   "cell_type": "code",
   "execution_count": 16,
   "id": "cdd8dbb4-3c3b-48dc-bf12-47fed594614b",
   "metadata": {},
   "outputs": [
    {
     "name": "stdin",
     "output_type": "stream",
     "text": [
      "Enter a value for n:  5\n"
     ]
    },
    {
     "name": "stdout",
     "output_type": "stream",
     "text": [
      "5\n"
     ]
    }
   ],
   "source": [
    "def nTermSequence():\n",
    "    # n is the nth term of the sequence\n",
    "    n = int(input(\"Enter a value for n: \"))\n",
    "    s =[1,-3,5,-7,9] # s is the sequence\n",
    "    sum = 0\n",
    "\n",
    "    # Each loop adds a term of the sequence, to the nth ter\n",
    "    # Eg. If n is 5, the sum is (1)+(-3)+(5)+(-7)+(9), which simplifies to 1-3+5-7+9\n",
    "    for i in range(n):\n",
    "        sum += s[i]\n",
    "    \n",
    "    # Returns the sum of the numbers\n",
    "    return sum\n",
    "\n",
    "# END nTermSequence\n",
    "\n",
    "print(nTermSequence())"
   ]
  }
 ],
 "metadata": {
  "kernelspec": {
   "display_name": "Python 3 (ipykernel)",
   "language": "python",
   "name": "python3"
  },
  "language_info": {
   "codemirror_mode": {
    "name": "ipython",
    "version": 3
   },
   "file_extension": ".py",
   "mimetype": "text/x-python",
   "name": "python",
   "nbconvert_exporter": "python",
   "pygments_lexer": "ipython3",
   "version": "3.12.5"
  }
 },
 "nbformat": 4,
 "nbformat_minor": 5
}
